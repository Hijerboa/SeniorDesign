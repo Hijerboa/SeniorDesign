{
 "cells": [
  {
   "cell_type": "code",
   "execution_count": 3,
   "metadata": {},
   "outputs": [],
   "source": [
    "from db.database_connection import initialize, create_session\n",
    "from db.models import Bill\n",
    "\n",
    "initialize()\n",
    "session = create_session()\n",
    "bills = session.query(Bill).filter(Bill.active==True, Bill.congress==117).all()\n",
    "#for bill in bills:\n",
    "#    print(bill.bill_id)\n",
    "#get_and_update_bill.apply_async(('hconres1-117',))"
   ]
  },
  {
   "cell_type": "code",
   "execution_count": 6,
   "metadata": {},
   "outputs": [],
   "source": [
    "from db.database_connection import initialize, create_session\n",
    "from db.models import Tweet\n",
    "\n",
    "initialize()\n",
    "session = create_session()\n",
    "f = open(\"test.txt\", \"a\")\n",
    "tweets = session.query(Tweet.id).all()\n",
    "for tweet in tweets:\n",
    "    f.write(tweet[0] + '\\n')\n",
    "f.close()"
   ]
  },
  {
   "cell_type": "code",
   "execution_count": 1,
   "metadata": {},
   "outputs": [
    {
     "name": "stdout",
     "output_type": "stream",
     "text": [
      "2\n"
     ]
    }
   ],
   "source": [
    "from apis.propublica_api import ProPublicaAPI\n",
    "from util.cred_handler import get_secret\n",
    "\n",
    "pro_publica_api: ProPublicaAPI = ProPublicaAPI(get_secret('pro_publica_url'), get_secret('pro_publica_api_key'))\n",
    "\n",
    "#bills = pro_publica_api.get_recent_updated_bills(117, 'both', 40, 'latest_major_action_date')\n",
    "bills = pro_publica_api.get_recent_bills(117, 'both', 0)\n",
    "print(len(bills))"
   ]
  },
  {
   "cell_type": "code",
   "execution_count": 1,
   "metadata": {},
   "outputs": [
    {
     "name": "stdout",
     "output_type": "stream",
     "text": [
      "113\n",
      "Healthcare.gov Health post comment: S a website designed. The Affordable Care Act provides better benefits and b... http://bit.ly/k8cbvU\n"
     ]
    }
   ],
   "source": [
    "from db.database_connection import initialize, create_session\n",
    "from db.models import Bill, SearchPhrase, Tweet\n",
    "\n",
    "initialize()\n",
    "session = create_session()\n",
    "phrase = session.query(SearchPhrase).filter(SearchPhrase.id==113).first()\n",
    "print(phrase.id)\n",
    "print(phrase.tweets[0])\n",
    "session.close()"
   ]
  },
  {
   "cell_type": "code",
   "execution_count": 12,
   "metadata": {},
   "outputs": [
    {
     "name": "stdout",
     "output_type": "stream",
     "text": [
      "{'status': 200, 'data': b'<html><body><pre>\\n[Congressional Bills 117th Congress]\\n[From the U.S. Government Publishing Office]\\n[H. Con. Res. 10 Received in Senate (RDS)]\\n\\n&lt;DOC&gt;\\n117th CONGRESS\\n  1st Session\\nH. CON. RES. 10\\n\\n\\n_______________________________________________________________________\\n\\n\\n                   IN THE SENATE OF THE UNITED STATES\\n\\n                            February 1, 2021\\n\\n                                Received\\n\\n_______________________________________________________________________\\n\\n                         CONCURRENT RESOLUTION\\n\\n\\n \\nPermitting the remains of the late United States Capitol Police Officer \\n    Brian D. Sicknick to lie in honor in the rotunda of the Capitol.\\n\\n    Resolved by the House of Representatives (the Senate concurring), \\nThat the remains of the late United States Capitol Police Officer Brian \\nD. Sicknick shall be permitted to lie in honor in the rotunda of the \\nCapitol from February 2, 2021, through February 3, 2021, and the \\nArchitect of the Capitol, under the direction of the Speaker of the \\nHouse of Representatives and the\\n\\n\\n              \\n\\n President pro tempore of the Senate, shall take all necessary steps \\nfor the accomplishment of that purpose.\\n\\n            Passed the House of Representatives February 1, 2021.\\n\\n            Attest:\\n\\n                                             CHERYL L. JOHNSON,\\n\\n                                                                 Clerk.\\n\\n                               By Robert F. Reeves,\\n\\n                                                          Deputy Clerk.\\n</pre></body></html>\\n'}\n"
     ]
    }
   ],
   "source": [
    "from db.database_connection import initialize, create_session\n",
    "from util.cred_handler import get_secret\n",
    "from apis.govinfo_api import GovInfoAPI\n",
    "\n",
    "api: GovInfoAPI = GovInfoAPI(get_secret('gov_info_url'), get_secret('gov_info_key'))\n",
    "full_text = api.get_bill_full_text('BILLS-117hconres10rds')\n",
    "print(full_text)"
   ]
  },
  {
   "cell_type": "code",
   "execution_count": 3,
   "metadata": {
    "collapsed": false,
    "pycharm": {
     "name": "#%%\n"
    }
   },
   "outputs": [
    {
     "name": "stdout",
     "output_type": "stream",
     "text": [
      "721\n"
     ]
    }
   ],
   "source": [
    "from db.database_connection import create_session, initialize\n",
    "from db.models import Bill\n",
    "#from tasks.machine_learning_tasks import keyword_extraction_by_bill\n",
    "\n",
    "initialize()\n",
    "session = create_session()\n",
    "bills = session.query(Bill).filter(Bill.keywords == None).count()\n",
    "\n",
    "print(bills)"
   ]
  },
  {
   "cell_type": "code",
   "execution_count": 4,
   "metadata": {
    "collapsed": false,
    "pycharm": {
     "name": "#%%\n"
    }
   },
   "outputs": [],
   "source": [
    "hr1 = ['For the People Act', 'election integrity and security', 'expands voter registration', 'independent redistricting commissions', 'congressional redistricting']\n",
    "\n",
    "hr1319 = ['American Rescue Plan', 'covid relief', 'covid economic relief', 'relief investment', 'healthcare investment']\n",
    "\n",
    "hr3684 = ['Infrastructure Investment', 'infrastructure job creation', 'funding for infrastructure', 'funding to rebuild roads', 'cleaning up Brownfield and Superfund']\n",
    "\n",
    "hres57 = ['impeach biden', 'criminal biden', 'abuse of power biden', 'unlawful acts biden', 'fake news biden', 'endangered the security of the United States biden']\n",
    "\n",
    "hr5376 = ['build back better', 'safe drinking water', 'small business assistance and development', 'transit services and clean energy projects in low-income communities', 'housing, rental, and homeowner assistance programs']\n",
    "\n",
    "hr4350 = ['defence authorization', 'military spending', 'defence spending', 'dod spending', 'F-35 aircraft spending', 'study irregular warfare', 'dod dispose of waste', 'draft women', 'selective service women']\n",
    "\n",
    "hr6 = ['path to receive permanent resident status', 'illegal aliens', 'path to citizenship', 'Deferred Action for Childhood Arrivals', 'DACA']\n",
    "\n",
    "hr1996 = ['weed banking', 'cannabis bank', 'cannabis banking', 'legitimate cannabis-related business', 'decreases the cap on the surplus funds of the Federal Reserve banks', 'decrease surplus funds cap']\n",
    "\n",
    "hr127 = ['process for the licensing and registration of firearms', 'register guns', 'gun license', 'database of firearms', 'database of guns', 'antique firearm requirements', 'antique gun requirements', 'large capacity ammunition feed device', 'ban .50 caliber']\n",
    "\n",
    "hr5 = ['sex discrimination', 'outlaws sex discrimination', 'ban sex discrimination', 'bathroom law', 'bathroom bill', 'gender identity law', 'outlaw gender identity discrimination']\n",
    "\n",
    "s1260 = ['support U.S. semiconductor manufacturing', 'U.S. semiconductor factory', 'wireless supply chain innovation', 'Innovation in the National Science Foundation', 'authorizes space exploration', 'NASA funding', 'China\\'s influence on institutions of higher education', 'chinese influence universities', 'prohibits federal funding for the Wuhan Institute of Virology']\n",
    "\n",
    "hr3648 = ['eagle act', 'more immigration', '15% visas', 'allow more green cards', 'legal aliens lawful residence', 'employment-based visas']\n",
    "\n",
    "hr4980 = ['vaccine mandate airport', 'vaccine mandate flights', 'vaccine mandate to fly', 'require vaccine to fly', 'require vaccine in airports']\n",
    "\n",
    "hr3755 = ['Women\\'s Health Protection', 'protect abortion rights', 'legal abortion', 'protect planned parenthood', 'prevent restricting abortion', 'may not require medically unnecessary procedures for abortion']\n",
    "\n",
    "from db.models import Bill, SearchPhrase, phrase_types\n",
    "from db.database_connection import initialize, create_session\n",
    "from db.db_utils import get_single_object, get_or_create\n",
    "\n",
    "initialize()\n",
    "session = create_session()\n",
    "bill = get_single_object(session, Bill, bill_id='hr1319-117')\n",
    "for keyword in hr1319:\n",
    "    object, created = get_or_create(session, SearchPhrase, search_phrase=keyword, type=phrase_types.manual)\n",
    "    bill.keywords.append(object)\n",
    "    \n",
    "bill = get_single_object(session, Bill, bill_id='hr3684-117')\n",
    "for keyword in hr3684:\n",
    "    object, created = get_or_create(session, SearchPhrase, search_phrase=keyword, type=phrase_types.manual)\n",
    "    bill.keywords.append(object)\n",
    "    \n",
    "bill = get_single_object(session, Bill, bill_id='hres57-117')\n",
    "for keyword in hres57:\n",
    "    object, created = get_or_create(session, SearchPhrase, search_phrase=keyword, type=phrase_types.manual)\n",
    "    bill.keywords.append(object)\n",
    "    \n",
    "bill = get_single_object(session, Bill, bill_id='hr5376-117')\n",
    "for keyword in hr5376:\n",
    "    object, created = get_or_create(session, SearchPhrase, search_phrase=keyword, type=phrase_types.manual)\n",
    "    bill.keywords.append(object)\n",
    "\n",
    "bill = get_single_object(session, Bill, bill_id='hr4350-117')\n",
    "for keyword in hr4350:\n",
    "    object, created = get_or_create(session, SearchPhrase, search_phrase=keyword, type=phrase_types.manual)\n",
    "    bill.keywords.append(object)\n",
    "    \n",
    "bill = get_single_object(session, Bill, bill_id='hr6-117')\n",
    "for keyword in hr6:\n",
    "    object, created = get_or_create(session, SearchPhrase, search_phrase=keyword, type=phrase_types.manual)\n",
    "    bill.keywords.append(object)\n",
    "    \n",
    "bill = get_single_object(session, Bill, bill_id='hr1996-117')\n",
    "for keyword in hr1996:\n",
    "    object, created = get_or_create(session, SearchPhrase, search_phrase=keyword, type=phrase_types.manual)\n",
    "    bill.keywords.append(object)\n",
    "    \n",
    "bill = get_single_object(session, Bill, bill_id='hr127-117')\n",
    "for keyword in hr127:\n",
    "    object, created = get_or_create(session, SearchPhrase, search_phrase=keyword, type=phrase_types.manual)\n",
    "    bill.keywords.append(object)\n",
    "    \n",
    "bill = get_single_object(session, Bill, bill_id='hr5-117')\n",
    "for keyword in hr5:\n",
    "    object, created = get_or_create(session, SearchPhrase, search_phrase=keyword, type=phrase_types.manual)\n",
    "    bill.keywords.append(object)\n",
    "    \n",
    "bill = get_single_object(session, Bill, bill_id='s1260-117')\n",
    "for keyword in s1260:\n",
    "    object, created = get_or_create(session, SearchPhrase, search_phrase=keyword, type=phrase_types.manual)\n",
    "    bill.keywords.append(object)\n",
    "    \n",
    "bill = get_single_object(session, Bill, bill_id='hr3648-117')\n",
    "for keyword in hr3648:\n",
    "    object, created = get_or_create(session, SearchPhrase, search_phrase=keyword, type=phrase_types.manual)\n",
    "    bill.keywords.append(object)\n",
    "    \n",
    "bill = get_single_object(session, Bill, bill_id='hr4980-117')\n",
    "for keyword in hr4980:\n",
    "    object, created = get_or_create(session, SearchPhrase, search_phrase=keyword, type=phrase_types.manual)\n",
    "    bill.keywords.append(object)\n",
    "    \n",
    "bill = get_single_object(session, Bill, bill_id='hr3755-117')\n",
    "for keyword in hr3755:\n",
    "    object, created = get_or_create(session, SearchPhrase, search_phrase=keyword, type=phrase_types.manual)\n",
    "    bill.keywords.append(object)\n",
    "\n",
    "\n",
    "session.commit()\n",
    "session.close()"
   ]
  },
  {
   "cell_type": "code",
   "execution_count": null,
   "outputs": [],
   "source": [
    "import time\n",
    "import datetime\n",
    "\n",
    "print('starting')\n",
    "start = datetime.datetime.now()\n",
    "time.sleep(3.241)\n",
    "end = datetime.datetime.now()\n",
    "print((end-start).total_seconds())"
   ],
   "metadata": {
    "collapsed": false,
    "pycharm": {
     "name": "#%%\n"
    }
   }
  },
  {
   "cell_type": "code",
   "execution_count": 38,
   "outputs": [
    {
     "name": "stdout",
     "output_type": "stream",
     "text": [
      "H.R.1319: American Rescue Plan Act of 2021 appeared 56 times\n",
      "H.R.3684: Infrastructure Investment and Jobs Act appeared 42 times\n",
      "H.Res.57: Impeaching Joseph R. Biden, President of the United States, for abuse of power by enabling bribery and other high crimes and misdemeanors. appeared 33 times\n",
      "H.R.1: For the People Act of 2021 appeared 29 times\n",
      "H.R.5376: Build Back Better Act appeared 23 times\n",
      "H.R.4350: National Defense Authorization Act for Fiscal Year 2022 appeared 20 times\n",
      "H.R.6: American Dream and Promise Act of 2021 appeared 19 times\n",
      "H.R.1996: SAFE Banking Act of 2021 appeared 18 times\n",
      "H.R.127: Sabika Sheikh Firearm Licensing and Registration Act appeared 18 times\n",
      "H.R.5: Equality Act appeared 16 times\n",
      "S.1260: United States Innovation and Competition Act of 2021 appeared 15 times\n",
      "H.R.3648: EAGLE Act of 2021 appeared 14 times\n",
      "H.R.4980: To direct the Secretary of Homeland Security to ensure that any individual traveling on a flight that departs from or arrives to an airport inside the United States or a territory of the United States is fully vaccinated against COVID-19, and for other purposes. appeared 12 times\n",
      "H.R.3755: Women’s Health Protection Act of 2021 appeared 11 times\n",
      "H.R.4521: America COMPETES Act of 2022 appeared 9 times\n",
      "S.1605: National Defense Authorization Act for Fiscal Year 2022 appeared 9 times\n",
      "H.R.4: John R. Lewis Voting Rights Advancement Act of 2021 appeared 7 times\n",
      "S.2747: Freedom to Vote Act appeared 6 times\n",
      "S.937: COVID-19 Hate Crimes Act appeared 6 times\n",
      "H.R.3617: Marijuana Opportunity Reinvestment and Expungement Act appeared 5 times\n",
      "H.R.3076: Postal Service Reform Act of 2022 appeared 5 times\n",
      "H.R.666: Anti-Racism in Public Health Act of 2021 appeared 5 times\n",
      "H.R.2471: Consolidated Appropriations Act, 2022 appeared 4 times\n",
      "H.R.6600: Ethiopia Stabilization, Peace, and Democracy Act appeared 4 times\n",
      "H.R.69: Sunshine Protection Act of 2021 appeared 4 times\n",
      "S.3538: EARN IT Act of 2022 appeared 4 times\n",
      "H.R.550: Immunization Infrastructure Modernization Act of 2021 appeared 4 times\n",
      "H.R.5305: Extending Government Funding and Delivering Emergency Assistance Act appeared 4 times\n",
      "H.R.227: Build America Act of 2021 appeared 4 times\n",
      "H.R.842: Protecting the Right to Organize Act of 2021 appeared 4 times\n",
      "H.R.8: Bipartisan Background Checks Act of 2021 appeared 4 times\n",
      "H.Res.24: Impeaching Donald John Trump, President of the United States, for high crimes and misdemeanors. appeared 4 times\n",
      "S.2992: American Innovation and Choice Online Act appeared 3 times\n",
      "H.R.55: Emmett Till Antilynching Act appeared 3 times\n",
      "H.R.4445: Ending Forced Arbitration of Sexual Assault and Sexual Harassment Act of 2021 appeared 3 times\n",
      "S.Con.Res.14: A concurrent resolution setting forth the congressional budget for the United States Government for fiscal year 2022 and setting forth the appropriate budgetary levels for fiscal years 2023 through 2031. appeared 3 times\n",
      "H.R.5123: American Freedom and Internet Access Act of 2021 appeared 3 times\n",
      "H.R.2590: To promote and protect the human rights of Palestinians living under Israeli military occupation and to ensure that United States taxpayer funds are not used by the Government of Israel to support the military detention of Palestinian children, the unlawful seizure, appropriation, and destruction of Palestinian property and forcible transfer of civilians in the West Bank, or further annexation of Palestinian land in violation of international law. appeared 3 times\n",
      "H.R.1446: Enhanced Background Checks Act of 2021 appeared 3 times\n",
      "H.R.6833: Affordable Insulin Now Act appeared 2 times\n",
      "S.623: Sunshine Protection Act of 2021 appeared 2 times\n",
      "H.R.6869: To authorize the President of the United States to issue letters of marque and reprisal for the purpose of seizing the assets of certain Russian citizens, and for other purposes. appeared 2 times\n",
      "H.R.2116: Creating a Respectful and Open World for Natural Hair Act of 2022 appeared 2 times\n",
      "H.R.4728: Thirty-Two Hour Workweek Act appeared 2 times\n",
      "H.R.3967: Honoring our PACT Act of 2021 appeared 2 times\n",
      "H.R.6617: Further Additional Extending Government Funding Act appeared 2 times\n",
      "H.R.4673: EVEST Act appeared 2 times\n",
      "H.R.5746: Freedom to Vote: John R. Lewis Act appeared 2 times\n",
      "H.R.5665: Combating International Islamophobia Act appeared 2 times\n",
      "H.R.6256: To ensure that goods made with forced labor in the Xinjiang Uyghur Autonomous Region of the People’s Republic of China do not enter the United States market, and for other purposes. appeared 2 times\n",
      "H.R.5545: REMOTE Act appeared 2 times\n",
      "S.610: Protecting Medicare and American Farmers from Sequester Cuts Act appeared 2 times\n",
      "H.R.6119: Further Extending Government Funding Act appeared 2 times\n",
      "H.Res.774: Providing for consideration of the bill (H.R. 5376) to provide for reconciliation pursuant to title II of S. Con. Res. 14; and for other purposes. appeared 2 times\n",
      "S.1301: Promoting Physical Activity for Americans Act appeared 2 times\n",
      "S.Amdt.2137: S.Amdt.2137 to H.R.3684 appeared 2 times\n",
      "H.R.3237: Emergency Security Supplemental Appropriations Act, 2021 appeared 2 times\n",
      "S.1: For the People Act of 2021 appeared 2 times\n",
      "S.475: Juneteenth National Independence Day Act appeared 2 times\n",
      "H.R.2316: Fire Fauci Act appeared 2 times\n",
      "H.R.7: Paycheck Fairness Act appeared 2 times\n",
      "H.R.1280: George Floyd Justice in Policing Act of 2021 appeared 2 times\n",
      "S.914: Drinking Water and Wastewater Infrastructure Act of 2021 appeared 2 times\n",
      "S.Amdt.1456: S.Amdt.1456 to S.Amdt.1445 appeared 2 times\n",
      "H.R.1799: PPP Extension Act of 2021 appeared 2 times\n",
      "S.Con.Res.5: A concurrent resolution setting forth the congressional budget for the United States Government for fiscal year 2021 and setting forth the appropriate budgetary levels for fiscal years 2022 through 2030. appeared 2 times\n",
      "H.Res.14: Censuring and condemning President Donald J. Trump for attempting to overturn the results of the November 2020 presidential election in the State of Georgia. appeared 2 times\n",
      "S.3522: Ukraine Democracy Defense Lend-Lease Act of 2022 appeared 1 times\n",
      "H.Res.831: Calling on the United States Government to uphold the founding democratic principles of the North Atlantic Treaty Organization and establish a Center for Democratic Resilience within the headquarters of the North Atlantic Treaty Organization. appeared 1 times\n",
      "H.R.3807: Restaurant Revitalization Fund Replenishment Act of 2021 appeared 1 times\n",
      "S.3199: Ethiopia Peace and Democracy Promotion Act of 2021 appeared 1 times\n",
      "H.R.3884: Philippine Human Rights Act appeared 1 times\n",
      "H.R.2741: Consolidated Appropriations Act, 2022 appeared 1 times\n",
      "H.R.6968: Suspending Energy Imports from Russia Act appeared 1 times\n",
      "H.J.Res.75: Extension of Continuing Appropriations Act, 2022 appeared 1 times\n",
      "H.Res.956: Supporting the people of Ukraine. appeared 1 times\n",
      "S.626: Lacey Act Amendments of 2021 appeared 1 times\n",
      "S.2342: Ending Forced Arbitration of Sexual Assault and Sexual Harassment Act of 2021 appeared 1 times\n",
      "H.R.2418: Student Loan Forgiveness for Frontline Health Workers Act appeared 1 times\n",
      "H.R.1836: Guard and Reserve GI Bill Parity Act of 2021 appeared 1 times\n",
      "S.J.Res.33: National Defense Authorization Act for Fiscal Year 2022 appeared 1 times\n",
      "H.R.5314: Protecting Our Democracy Act appeared 1 times\n",
      "H.R.1155: Uyghur Forced Labor Prevention Act appeared 1 times\n",
      "H.R.6070: To award a Congressional Gold Medal to Kyle H. Rittenhouse, who protected the community of Kenosha, Wisconsin, during a Black Lives Matter (BLM) riot on August 25, 2020. appeared 1 times\n",
      "H.Res.789: Censuring Representative Paul Gosar. appeared 1 times\n",
      "H.R.2377: Federal Extreme Risk Protection Order Act of 2021 appeared 1 times\n",
      "H.R.2119: Family Violence Prevention and Services Improvement Act of 2021 appeared 1 times\n",
      "S.747: Citizenship for Essential Workers Act appeared 1 times\n",
      "H.Con.Res.14: A concurrent resolution setting forth the congressional budget for the United States Government for fiscal year 2022 and setting forth the appropriate budgetary levels for fiscal years 2023 through 2031. appeared 1 times\n",
      "H.R.4953: To amend the Internal Revenue Code of 1986 to subject to the requirements of the National Firearms Act any semiautomatic rifle that has the capacity to accept a detachable magazine. appeared 1 times\n",
      "H.R.2317: We Will Not Comply Act appeared 1 times\n",
      "H.R.4502: Departments of Labor, Health and Human Services, and Education, and Related Agencies Appropriations Act, 2022 appeared 1 times\n",
      "H.R.1652: VOCA Fix to Sustain the Crime Victims Fund Act of 2021 appeared 1 times\n",
      "H.R.3985: Averting Loss of Life and Injury by Expediting SIVs Act of 2021 appeared 1 times\n",
      "H.R.2467: PFAS Action Act of 2021 appeared 1 times\n",
      "H.R.3680: To prohibit any requirement that a member of the Armed Forces receive a vaccination against COVID-19. appeared 1 times\n",
      "H.R.1260: United States Innovation and Competition Act of 2021 appeared 1 times\n",
      "H.R.3005: To direct the Joint Committee on the Library to replace the bust of Roger Brooke Taney in the Old Supreme Court Chamber of the United States Capitol with a bust of Thurgood Marshall to be obtained by the Joint Committee on the Library and to remove certain statues from areas of the United States Capitol which are accessible to the public, to remove all statues of individuals who voluntarily served the Confederate States of America from display in the United States Capitol, and for other purposes. appeared 1 times\n",
      "H.R.3233: National Commission to Investigate the January 6 Attack on the United States Capitol Complex Act appeared 1 times\n",
      "S.3233: National Commission to Investigate the January 6 Attack on the United States Capitol Complex Act appeared 1 times\n",
      "S.Res.97: A resolution calling on the Government of Ethiopia, the Tigray People’s Liberation Front, and other belligerents in the conflict in the Tigray Region of Ethiopia to cease all hostilities, protect human rights, allow unfettered humanitarian access, and cooperate with independent investigations of credible atrocity allegations. appeared 1 times\n",
      "H.R.51: Washington, D.C. Admission Act appeared 1 times\n",
      "H.R.57: No Free Rent for Freeloaders Act of 2021 appeared 1 times\n",
      "H.R.1207: Stop Online Ammunition Sales Act of 2021 appeared 1 times\n",
      "H.R.1276: SAVE LIVES Act appeared 1 times\n",
      "H.R.1620: Violence Against Women Act Reauthorization Act of 2021 appeared 1 times\n",
      "H.R.803: Colorado Wilderness Act of 2021 appeared 1 times\n",
      "H.R.484: No Glory for Hate Act appeared 1 times\n",
      "H.R.40: Commission to Study and Develop Reparation Proposals for African Americans Act appeared 1 times\n",
      "S.Res.47: A resolution to provide for related procedures concerning the article of impeachment against Donald John Trump, former President of the United States. appeared 1 times\n",
      "H.Res.91: Providing for consideration of the Resolution (H. Res. 72) removing a certain Member from certain standing committees of the House of Representatives. appeared 1 times\n",
      "H.Res.72: Removing a certain Member from certain standing committees of the House of Representatives. appeared 1 times\n",
      "H.R.350: To authorize dedicated domestic terrorism offices within the Department of Homeland Security, the Department of Justice, and the Federal Bureau of Investigation to analyze and monitor domestic terrorist activity and require the Federal Government to take steps to prevent domestic terrorism. appeared 1 times\n",
      "H.R.335: To provide for an exception to a limitation against appointment of persons as Secretary of Defense within seven years of relief from active duty as a regular commissioned officer of the Armed Forces. appeared 1 times\n",
      "H.J.Res.14: Proposing an amendment to the Constitution of the United States to abolish the electoral college and to provide for the direct election of the President and Vice President of the United States. appeared 1 times\n",
      "H.R.339: To direct the Architect of the Capitol to design and install an appropriate fence around the perimeter of the United States Capitol, including the East Front and the West Front. appeared 1 times\n",
      "H.Res.41: Providing for consideration of the resolution (H. Res. 24) impeaching Donald John Trump, President of the United States, for high crimes and misdemeanors. appeared 1 times\n",
      "H.Res.21: Calling on Vice President Michael R. Pence to convene and mobilize the principal officers of the executive departments of the Cabinet to activate section 4 of the 25th Amendment to declare President Donald J. Trump incapable of executing the duties of his office and to immediately exercise powers as acting President. appeared 1 times\n",
      "H.Res.8: Adopting the Rules of the House of Representatives of the One Hundred Seventeenth Congress, and for other purposes. appeared 1 times\n",
      "H.R.305: To award a Congressional Gold Medal to Officer Eugene Goodman. appeared 1 times\n",
      "H.Res.26: Impeaching Donald John Trump, President of the United States, for high crimes and misdemeanors. appeared 1 times\n",
      "H.J.Res.4: Proposing an amendment to the Constitution of the United States limiting the pardon power of the President. appeared 1 times\n"
     ]
    }
   ],
   "source": [
    "from bs4 import BeautifulSoup\n",
    "import requests\n",
    "\n",
    "congress_num = 117\n",
    "congress_string = f' [{congress_num}] '\n",
    "\n",
    "num_times = {}\n",
    "bill_titles = {}\n",
    "\n",
    "request = requests.get('https://www.congress.gov/most-viewed-bills')\n",
    "\n",
    "soup = BeautifulSoup(request.text, 'html.parser')\n",
    "trs = soup.find_all('tr', attrs={'class': None})\n",
    "for tr in trs:\n",
    "    cols = tr.find_all('td')\n",
    "    if len(cols) == 0:\n",
    "        continue\n",
    "    try:\n",
    "        if not str(congress_num) in cols[1].contents[1]:\n",
    "            continue\n",
    "        bill_num = cols[1].contents[0].contents[0]\n",
    "        if bill_num not in num_times.keys():\n",
    "            num_times[bill_num] = 1\n",
    "            bill_titles[bill_num] = cols[2].contents[0]\n",
    "        else:\n",
    "            num_times[bill_num] += 1\n",
    "    except AttributeError:\n",
    "        continue\n",
    "\n",
    "for bill in sorted(num_times.keys(), key=num_times.get, reverse=True):\n",
    "    print(f'{bill}: {bill_titles[bill]} appeared {num_times[bill]} times')"
   ],
   "metadata": {
    "collapsed": false,
    "pycharm": {
     "name": "#%%\n"
    }
   }
  },
  {
   "cell_type": "code",
   "execution_count": 31,
   "outputs": [
    {
     "name": "stdout",
     "output_type": "stream",
     "text": [
      "one\n",
      "three\n"
     ]
    }
   ],
   "source": [
    "tuples = [('one', 'two'), ('three', 'four')]\n",
    "\n",
    "for first, second in tuples:\n",
    "    print(first)"
   ],
   "metadata": {
    "collapsed": false,
    "pycharm": {
     "name": "#%%\n"
    }
   }
  },
  {
   "cell_type": "code",
   "execution_count": 36,
   "outputs": [
    {
     "name": "stdout",
     "output_type": "stream",
     "text": [
      "12349\n"
     ]
    }
   ],
   "source": [
    "import random\n",
    "\n",
    "from db.database_connection import initialize, create_session\n",
    "from db.models import Bill, SearchPhrase, Tweet\n",
    "\n",
    "\n",
    "\n",
    "initialize()\n",
    "session = create_session()\n",
    "\n",
    "all_tweets = []\n",
    "\n",
    "group = session.query(SearchPhrase).filter(SearchPhrase.id.in_([47, 65, 76, 79, 107, 113, 114, 115, 116, 119])).limit(11000).all()\n",
    "for phrase in group:\n",
    "    tweets = session.query(Tweet).where(Tweet.search_phrases.contains(phrase)).limit(2000).all()\n",
    "    for tweet in tweets:\n",
    "        all_tweets.append(tweet)\n",
    "\n",
    "random.shuffle(all_tweets)\n",
    "print(len(all_tweets))\n",
    "\n",
    "# tweets = group.tweets[1000:11000]\n",
    "# random.shuffle(tweets)\n",
    "\n",
    "# Write to CSV here\n",
    "# f = open('healthcare_tweets_vader_score.csv', 'w')\n",
    "# for t in tweets:\n",
    "#     tweet = str(t).replace(',', '').replace(';', '').replace('\\n', '')\n",
    "#     score = vader_score(tweet)\n",
    "#     f.write(f'{score}, {tweet}\\n')\n",
    "# f.close()\n",
    "\n",
    "session.close()"
   ],
   "metadata": {
    "collapsed": false,
    "pycharm": {
     "name": "#%%\n"
    }
   }
  },
  {
   "cell_type": "code",
   "execution_count": 37,
   "outputs": [
    {
     "name": "stdout",
     "output_type": "stream",
     "text": [
      "2021\n",
      "2020\n",
      "2019\n",
      "2018\n",
      "2017\n",
      "2016\n",
      "2015\n",
      "2014\n",
      "2013\n",
      "2012\n",
      "2011\n",
      "2010\n",
      "2009\n",
      "2008\n",
      "2007\n",
      "2006\n",
      "2005\n",
      "2004\n",
      "2003\n",
      "2002\n",
      "2001\n",
      "2000\n",
      "1999\n",
      "1998\n",
      "1997\n",
      "1996\n",
      "1995\n",
      "1994\n",
      "1993\n",
      "1992\n",
      "1991\n",
      "1990\n",
      "1989\n",
      "1988\n",
      "1987\n",
      "1986\n",
      "1985\n",
      "1984\n",
      "1983\n",
      "1982\n",
      "1981\n"
     ]
    }
   ],
   "source": [
    "for i in range(2021, 1980, -1):\n",
    "    print(i)"
   ],
   "metadata": {
    "collapsed": false,
    "pycharm": {
     "name": "#%%\n"
    }
   }
  },
  {
   "cell_type": "code",
   "execution_count": null,
   "outputs": [],
   "source": [],
   "metadata": {
    "collapsed": false,
    "pycharm": {
     "name": "#%%\n"
    }
   }
  }
 ],
 "metadata": {
  "interpreter": {
   "hash": "31f2aee4e71d21fbe5cf8b01ff0e069b9275f58929596ceb00d14d90e3e16cd6"
  },
  "kernelspec": {
   "display_name": "Python 3.8.10 64-bit",
   "language": "python",
   "name": "python3"
  },
  "language_info": {
   "codemirror_mode": {
    "name": "ipython",
    "version": 3
   },
   "file_extension": ".py",
   "mimetype": "text/x-python",
   "name": "python",
   "nbconvert_exporter": "python",
   "pygments_lexer": "ipython3",
   "version": "3.8.10"
  },
  "orig_nbformat": 4
 },
 "nbformat": 4,
 "nbformat_minor": 2
}