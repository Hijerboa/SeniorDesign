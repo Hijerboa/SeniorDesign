{
 "cells": [
  {
   "cell_type": "code",
   "execution_count": 3,
   "metadata": {},
   "outputs": [],
   "source": [
    "from db.database_connection import initialize, create_session\n",
    "from db.models import Bill\n",
    "\n",
    "initialize()\n",
    "session = create_session()\n",
    "bills = session.query(Bill).filter(Bill.active==True, Bill.congress==117).all()\n",
    "#for bill in bills:\n",
    "#    print(bill.bill_id)\n",
    "#get_and_update_bill.apply_async(('hconres1-117',))"
   ]
  },
  {
   "cell_type": "code",
   "execution_count": 6,
   "metadata": {},
   "outputs": [],
   "source": [
    "from db.database_connection import initialize, create_session\n",
    "from db.models import Tweet\n",
    "\n",
    "initialize()\n",
    "session = create_session()\n",
    "f = open(\"test.txt\", \"a\")\n",
    "tweets = session.query(Tweet.id).all()\n",
    "for tweet in tweets:\n",
    "    f.write(tweet[0] + '\\n')\n",
    "f.close()"
   ]
  },
  {
   "cell_type": "code",
   "execution_count": 1,
   "metadata": {},
   "outputs": [
    {
     "name": "stdout",
     "output_type": "stream",
     "text": [
      "2\n"
     ]
    }
   ],
   "source": [
    "from apis.propublica_api import ProPublicaAPI\n",
    "from util.cred_handler import get_secret\n",
    "\n",
    "pro_publica_api: ProPublicaAPI = ProPublicaAPI(get_secret('pro_publica_url'), get_secret('pro_publica_api_key'))\n",
    "\n",
    "#bills = pro_publica_api.get_recent_updated_bills(117, 'both', 40, 'latest_major_action_date')\n",
    "bills = pro_publica_api.get_recent_bills(117, 'both', 0)\n",
    "print(len(bills))"
   ]
  },
  {
   "cell_type": "code",
   "execution_count": 2,
   "metadata": {},
   "outputs": [
    {
     "name": "stdout",
     "output_type": "stream",
     "text": [
      "12304\n"
     ]
    }
   ],
   "source": [
    "from db.database_connection import initialize, create_session\n",
    "from db.models import Bill\n",
    "\n",
    "initialize()\n",
    "session = create_session()\n",
    "bills = session.query(Bill).filter(Bill.summary=='').count()\n",
    "print(bills)"
   ]
  },
  {
   "cell_type": "code",
   "execution_count": 3,
   "metadata": {},
   "outputs": [],
   "source": [
    "from db.database_connection import initialize, create_session\n",
    "from util.cred_handler import get_secret\n",
    "from apis.govinfo_api import GovInfoAPI\n",
    "\n",
    "api: GovInfoAPI = GovInfoAPI(get_secret('gov_info_url'), get_secret('gov_info_key'))\n",
    "full_text = api.get_bill_full_text('BILLS-117hconres10rds')\n",
    "print(full_text)"
   ]
  }
 ],
 "metadata": {
  "interpreter": {
   "hash": "31f2aee4e71d21fbe5cf8b01ff0e069b9275f58929596ceb00d14d90e3e16cd6"
  },
  "kernelspec": {
   "display_name": "Python 3.8.10 64-bit",
   "language": "python",
   "name": "python3"
  },
  "language_info": {
   "codemirror_mode": {
    "name": "ipython",
    "version": 3
   },
   "file_extension": ".py",
   "mimetype": "text/x-python",
   "name": "python",
   "nbconvert_exporter": "python",
   "pygments_lexer": "ipython3",
   "version": "3.8.10"
  },
  "orig_nbformat": 4
 },
 "nbformat": 4,
 "nbformat_minor": 2
}
