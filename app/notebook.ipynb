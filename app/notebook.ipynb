{
 "cells": [
  {
   "cell_type": "code",
   "execution_count": 3,
   "metadata": {},
   "outputs": [],
   "source": [
    "from db.database_connection import initialize, create_session\n",
    "from db.models import Bill\n",
    "\n",
    "initialize()\n",
    "session = create_session()\n",
    "bills = session.query(Bill).filter(Bill.active==True, Bill.congress==117).all()\n",
    "#for bill in bills:\n",
    "#    print(bill.bill_id)\n",
    "#get_and_update_bill.apply_async(('hconres1-117',))"
   ]
  },
  {
   "cell_type": "code",
   "execution_count": 6,
   "metadata": {},
   "outputs": [],
   "source": [
    "from db.database_connection import initialize, create_session\n",
    "from db.models import Tweet\n",
    "\n",
    "initialize()\n",
    "session = create_session()\n",
    "f = open(\"test.txt\", \"a\")\n",
    "tweets = session.query(Tweet.id).all()\n",
    "for tweet in tweets:\n",
    "    f.write(tweet[0] + '\\n')\n",
    "f.close()"
   ]
  },
  {
   "cell_type": "code",
   "execution_count": 1,
   "metadata": {},
   "outputs": [
    {
     "name": "stdout",
     "output_type": "stream",
     "text": [
      "2\n"
     ]
    }
   ],
   "source": [
    "from apis.propublica_api import ProPublicaAPI\n",
    "from util.cred_handler import get_secret\n",
    "\n",
    "pro_publica_api: ProPublicaAPI = ProPublicaAPI(get_secret('pro_publica_url'), get_secret('pro_publica_api_key'))\n",
    "\n",
    "#bills = pro_publica_api.get_recent_updated_bills(117, 'both', 40, 'latest_major_action_date')\n",
    "bills = pro_publica_api.get_recent_bills(117, 'both', 0)\n",
    "print(len(bills))"
   ]
  },
  {
   "cell_type": "code",
   "execution_count": 1,
   "metadata": {},
   "outputs": [
    {
     "name": "stdout",
     "output_type": "stream",
     "text": [
      "113\n",
      "Healthcare.gov Health post comment: S a website designed. The Affordable Care Act provides better benefits and b... http://bit.ly/k8cbvU\n"
     ]
    }
   ],
   "source": [
    "from db.database_connection import initialize, create_session\n",
    "from db.models import Bill, SearchPhrase, Tweet\n",
    "\n",
    "initialize()\n",
    "session = create_session()\n",
    "phrase = session.query(SearchPhrase).filter(SearchPhrase.id==113).first()\n",
    "print(phrase.id)\n",
    "print(phrase.tweets[0])\n",
    "session.close()"
   ]
  },
  {
   "cell_type": "code",
   "execution_count": 12,
   "metadata": {},
   "outputs": [
    {
     "name": "stdout",
     "output_type": "stream",
     "text": [
      "{'status': 200, 'data': b'<html><body><pre>\\n[Congressional Bills 117th Congress]\\n[From the U.S. Government Publishing Office]\\n[H. Con. Res. 10 Received in Senate (RDS)]\\n\\n&lt;DOC&gt;\\n117th CONGRESS\\n  1st Session\\nH. CON. RES. 10\\n\\n\\n_______________________________________________________________________\\n\\n\\n                   IN THE SENATE OF THE UNITED STATES\\n\\n                            February 1, 2021\\n\\n                                Received\\n\\n_______________________________________________________________________\\n\\n                         CONCURRENT RESOLUTION\\n\\n\\n \\nPermitting the remains of the late United States Capitol Police Officer \\n    Brian D. Sicknick to lie in honor in the rotunda of the Capitol.\\n\\n    Resolved by the House of Representatives (the Senate concurring), \\nThat the remains of the late United States Capitol Police Officer Brian \\nD. Sicknick shall be permitted to lie in honor in the rotunda of the \\nCapitol from February 2, 2021, through February 3, 2021, and the \\nArchitect of the Capitol, under the direction of the Speaker of the \\nHouse of Representatives and the\\n\\n\\n              \\n\\n President pro tempore of the Senate, shall take all necessary steps \\nfor the accomplishment of that purpose.\\n\\n            Passed the House of Representatives February 1, 2021.\\n\\n            Attest:\\n\\n                                             CHERYL L. JOHNSON,\\n\\n                                                                 Clerk.\\n\\n                               By Robert F. Reeves,\\n\\n                                                          Deputy Clerk.\\n</pre></body></html>\\n'}\n"
     ]
    }
   ],
   "source": [
    "from db.database_connection import initialize, create_session\n",
    "from util.cred_handler import get_secret\n",
    "from apis.govinfo_api import GovInfoAPI\n",
    "\n",
    "api: GovInfoAPI = GovInfoAPI(get_secret('gov_info_url'), get_secret('gov_info_key'))\n",
    "full_text = api.get_bill_full_text('BILLS-117hconres10rds')\n",
    "print(full_text)"
   ]
  },
  {
   "cell_type": "code",
   "execution_count": 3,
   "metadata": {
    "collapsed": false,
    "pycharm": {
     "name": "#%%\n"
    }
   },
   "outputs": [
    {
     "name": "stdout",
     "output_type": "stream",
     "text": [
      "721\n"
     ]
    }
   ],
   "source": [
    "from db.database_connection import create_session, initialize\n",
    "from db.models import Bill\n",
    "#from tasks.machine_learning_tasks import keyword_extraction_by_bill\n",
    "\n",
    "initialize()\n",
    "session = create_session()\n",
    "bills = session.query(Bill).filter(Bill.keywords == None).count()\n",
    "\n",
    "print(bills)"
   ]
  },
  {
   "cell_type": "code",
   "execution_count": 4,
   "metadata": {
    "collapsed": false,
    "pycharm": {
     "name": "#%%\n"
    }
   },
   "outputs": [],
   "source": [
    "hr1 = ['For the People Act', 'election integrity and security', 'expands voter registration', 'independent redistricting commissions', 'congressional redistricting']\n",
    "\n",
    "hr1319 = ['American Rescue Plan', 'covid relief', 'covid economic relief', 'relief investment', 'healthcare investment']\n",
    "\n",
    "hr3684 = ['Infrastructure Investment', 'infrastructure job creation', 'funding for infrastructure', 'funding to rebuild roads', 'cleaning up Brownfield and Superfund']\n",
    "\n",
    "hres57 = ['impeach biden', 'criminal biden', 'abuse of power biden', 'unlawful acts biden', 'fake news biden', 'endangered the security of the United States biden']\n",
    "\n",
    "hr5376 = ['build back better', 'safe drinking water', 'small business assistance and development', 'transit services and clean energy projects in low-income communities', 'housing, rental, and homeowner assistance programs']\n",
    "\n",
    "hr4350 = ['defence authorization', 'military spending', 'defence spending', 'dod spending', 'F-35 aircraft spending', 'study irregular warfare', 'dod dispose of waste', 'draft women', 'selective service women']\n",
    "\n",
    "hr6 = ['path to receive permanent resident status', 'illegal aliens', 'path to citizenship', 'Deferred Action for Childhood Arrivals', 'DACA']\n",
    "\n",
    "hr1996 = ['weed banking', 'cannabis bank', 'cannabis banking', 'legitimate cannabis-related business', 'decreases the cap on the surplus funds of the Federal Reserve banks', 'decrease surplus funds cap']\n",
    "\n",
    "hr127 = ['process for the licensing and registration of firearms', 'register guns', 'gun license', 'database of firearms', 'database of guns', 'antique firearm requirements', 'antique gun requirements', 'large capacity ammunition feed device', 'ban .50 caliber']\n",
    "\n",
    "hr5 = ['sex discrimination', 'outlaws sex discrimination', 'ban sex discrimination', 'bathroom law', 'bathroom bill', 'gender identity law', 'outlaw gender identity discrimination']\n",
    "\n",
    "s1260 = ['support U.S. semiconductor manufacturing', 'U.S. semiconductor factory', 'wireless supply chain innovation', 'Innovation in the National Science Foundation', 'authorizes space exploration', 'NASA funding', 'China\\'s influence on institutions of higher education', 'chinese influence universities', 'prohibits federal funding for the Wuhan Institute of Virology']\n",
    "\n",
    "hr3648 = ['eagle act', 'more immigration', '15% visas', 'allow more green cards', 'legal aliens lawful residence', 'employment-based visas']\n",
    "\n",
    "hr4980 = ['vaccine mandate airport', 'vaccine mandate flights', 'vaccine mandate to fly', 'require vaccine to fly', 'require vaccine in airports']\n",
    "\n",
    "hr3755 = ['Women\\'s Health Protection', 'protect abortion rights', 'legal abortion', 'protect planned parenthood', 'prevent restricting abortion', 'may not require medically unnecessary procedures for abortion']\n",
    "\n",
    "from db.models import Bill, SearchPhrase, phrase_types\n",
    "from db.database_connection import initialize, create_session\n",
    "from db.db_utils import get_single_object, get_or_create\n",
    "\n",
    "initialize()\n",
    "session = create_session()\n",
    "bill = get_single_object(session, Bill, bill_id='hr1319-117')\n",
    "for keyword in hr1319:\n",
    "    object, created = get_or_create(session, SearchPhrase, search_phrase=keyword, type=phrase_types.manual)\n",
    "    bill.keywords.append(object)\n",
    "    \n",
    "bill = get_single_object(session, Bill, bill_id='hr3684-117')\n",
    "for keyword in hr3684:\n",
    "    object, created = get_or_create(session, SearchPhrase, search_phrase=keyword, type=phrase_types.manual)\n",
    "    bill.keywords.append(object)\n",
    "    \n",
    "bill = get_single_object(session, Bill, bill_id='hres57-117')\n",
    "for keyword in hres57:\n",
    "    object, created = get_or_create(session, SearchPhrase, search_phrase=keyword, type=phrase_types.manual)\n",
    "    bill.keywords.append(object)\n",
    "    \n",
    "bill = get_single_object(session, Bill, bill_id='hr5376-117')\n",
    "for keyword in hr5376:\n",
    "    object, created = get_or_create(session, SearchPhrase, search_phrase=keyword, type=phrase_types.manual)\n",
    "    bill.keywords.append(object)\n",
    "\n",
    "bill = get_single_object(session, Bill, bill_id='hr4350-117')\n",
    "for keyword in hr4350:\n",
    "    object, created = get_or_create(session, SearchPhrase, search_phrase=keyword, type=phrase_types.manual)\n",
    "    bill.keywords.append(object)\n",
    "    \n",
    "bill = get_single_object(session, Bill, bill_id='hr6-117')\n",
    "for keyword in hr6:\n",
    "    object, created = get_or_create(session, SearchPhrase, search_phrase=keyword, type=phrase_types.manual)\n",
    "    bill.keywords.append(object)\n",
    "    \n",
    "bill = get_single_object(session, Bill, bill_id='hr1996-117')\n",
    "for keyword in hr1996:\n",
    "    object, created = get_or_create(session, SearchPhrase, search_phrase=keyword, type=phrase_types.manual)\n",
    "    bill.keywords.append(object)\n",
    "    \n",
    "bill = get_single_object(session, Bill, bill_id='hr127-117')\n",
    "for keyword in hr127:\n",
    "    object, created = get_or_create(session, SearchPhrase, search_phrase=keyword, type=phrase_types.manual)\n",
    "    bill.keywords.append(object)\n",
    "    \n",
    "bill = get_single_object(session, Bill, bill_id='hr5-117')\n",
    "for keyword in hr5:\n",
    "    object, created = get_or_create(session, SearchPhrase, search_phrase=keyword, type=phrase_types.manual)\n",
    "    bill.keywords.append(object)\n",
    "    \n",
    "bill = get_single_object(session, Bill, bill_id='s1260-117')\n",
    "for keyword in s1260:\n",
    "    object, created = get_or_create(session, SearchPhrase, search_phrase=keyword, type=phrase_types.manual)\n",
    "    bill.keywords.append(object)\n",
    "    \n",
    "bill = get_single_object(session, Bill, bill_id='hr3648-117')\n",
    "for keyword in hr3648:\n",
    "    object, created = get_or_create(session, SearchPhrase, search_phrase=keyword, type=phrase_types.manual)\n",
    "    bill.keywords.append(object)\n",
    "    \n",
    "bill = get_single_object(session, Bill, bill_id='hr4980-117')\n",
    "for keyword in hr4980:\n",
    "    object, created = get_or_create(session, SearchPhrase, search_phrase=keyword, type=phrase_types.manual)\n",
    "    bill.keywords.append(object)\n",
    "    \n",
    "bill = get_single_object(session, Bill, bill_id='hr3755-117')\n",
    "for keyword in hr3755:\n",
    "    object, created = get_or_create(session, SearchPhrase, search_phrase=keyword, type=phrase_types.manual)\n",
    "    bill.keywords.append(object)\n",
    "\n",
    "\n",
    "session.commit()\n",
    "session.close()"
   ]
  }
 ],
 "metadata": {
  "interpreter": {
   "hash": "31f2aee4e71d21fbe5cf8b01ff0e069b9275f58929596ceb00d14d90e3e16cd6"
  },
  "kernelspec": {
   "display_name": "Python 3.8.10 64-bit",
   "language": "python",
   "name": "python3"
  },
  "language_info": {
   "codemirror_mode": {
    "name": "ipython",
    "version": 3
   },
   "file_extension": ".py",
   "mimetype": "text/x-python",
   "name": "python",
   "nbconvert_exporter": "python",
   "pygments_lexer": "ipython3",
   "version": "3.8.10"
  },
  "orig_nbformat": 4
 },
 "nbformat": 4,
 "nbformat_minor": 2
}
