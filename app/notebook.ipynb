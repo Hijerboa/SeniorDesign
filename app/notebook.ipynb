{
 "cells": [
  {
   "cell_type": "code",
   "execution_count": 3,
   "metadata": {},
   "outputs": [],
   "source": [
    "from db.database_connection import initialize, create_session\n",
    "from db.models import Bill\n",
    "\n",
    "initialize()\n",
    "session = create_session()\n",
    "bills = session.query(Bill).filter(Bill.active==True, Bill.congress==117).all()\n",
    "#for bill in bills:\n",
    "#    print(bill.bill_id)\n",
    "#get_and_update_bill.apply_async(('hconres1-117',))"
   ]
  },
  {
   "cell_type": "code",
   "execution_count": 6,
   "metadata": {},
   "outputs": [],
   "source": [
    "from db.database_connection import initialize, create_session\n",
    "from db.models import Tweet\n",
    "\n",
    "initialize()\n",
    "session = create_session()\n",
    "f = open(\"test.txt\", \"a\")\n",
    "tweets = session.query(Tweet.id).all()\n",
    "for tweet in tweets:\n",
    "    f.write(tweet[0] + '\\n')\n",
    "f.close()"
   ]
  },
  {
   "cell_type": "code",
   "execution_count": 1,
   "metadata": {},
   "outputs": [
    {
     "name": "stdout",
     "output_type": "stream",
     "text": [
      "2\n"
     ]
    }
   ],
   "source": [
    "from apis.propublica_api import ProPublicaAPI\n",
    "from util.cred_handler import get_secret\n",
    "\n",
    "pro_publica_api: ProPublicaAPI = ProPublicaAPI(get_secret('pro_publica_url'), get_secret('pro_publica_api_key'))\n",
    "\n",
    "#bills = pro_publica_api.get_recent_updated_bills(117, 'both', 40, 'latest_major_action_date')\n",
    "bills = pro_publica_api.get_recent_bills(117, 'both', 0)\n",
    "print(len(bills))"
   ]
  },
  {
   "cell_type": "code",
   "execution_count": 1,
   "metadata": {},
   "outputs": [
    {
     "name": "stdout",
     "output_type": "stream",
     "text": [
      "113\n",
      "Healthcare.gov Health post comment: S a website designed. The Affordable Care Act provides better benefits and b... http://bit.ly/k8cbvU\n"
     ]
    }
   ],
   "source": [
    "from db.database_connection import initialize, create_session\n",
    "from db.models import Bill, SearchPhrase, Tweet\n",
    "\n",
    "initialize()\n",
    "session = create_session()\n",
    "phrase = session.query(SearchPhrase).filter(SearchPhrase.id==113).first()\n",
    "print(phrase.id)\n",
    "print(phrase.tweets[0])\n",
    "session.close()"
   ]
  },
  {
   "cell_type": "code",
   "execution_count": 12,
   "metadata": {},
   "outputs": [
    {
     "name": "stdout",
     "output_type": "stream",
     "text": [
      "{'status': 200, 'data': b'<html><body><pre>\\n[Congressional Bills 117th Congress]\\n[From the U.S. Government Publishing Office]\\n[H. Con. Res. 10 Received in Senate (RDS)]\\n\\n&lt;DOC&gt;\\n117th CONGRESS\\n  1st Session\\nH. CON. RES. 10\\n\\n\\n_______________________________________________________________________\\n\\n\\n                   IN THE SENATE OF THE UNITED STATES\\n\\n                            February 1, 2021\\n\\n                                Received\\n\\n_______________________________________________________________________\\n\\n                         CONCURRENT RESOLUTION\\n\\n\\n \\nPermitting the remains of the late United States Capitol Police Officer \\n    Brian D. Sicknick to lie in honor in the rotunda of the Capitol.\\n\\n    Resolved by the House of Representatives (the Senate concurring), \\nThat the remains of the late United States Capitol Police Officer Brian \\nD. Sicknick shall be permitted to lie in honor in the rotunda of the \\nCapitol from February 2, 2021, through February 3, 2021, and the \\nArchitect of the Capitol, under the direction of the Speaker of the \\nHouse of Representatives and the\\n\\n\\n              \\n\\n President pro tempore of the Senate, shall take all necessary steps \\nfor the accomplishment of that purpose.\\n\\n            Passed the House of Representatives February 1, 2021.\\n\\n            Attest:\\n\\n                                             CHERYL L. JOHNSON,\\n\\n                                                                 Clerk.\\n\\n                               By Robert F. Reeves,\\n\\n                                                          Deputy Clerk.\\n</pre></body></html>\\n'}\n"
     ]
    }
   ],
   "source": [
    "from db.database_connection import initialize, create_session\n",
    "from util.cred_handler import get_secret\n",
    "from apis.govinfo_api import GovInfoAPI\n",
    "\n",
    "api: GovInfoAPI = GovInfoAPI(get_secret('gov_info_url'), get_secret('gov_info_key'))\n",
    "full_text = api.get_bill_full_text('BILLS-117hconres10rds')\n",
    "print(full_text)"
   ]
  },
  {
   "cell_type": "code",
   "execution_count": 3,
   "metadata": {
    "collapsed": false,
    "pycharm": {
     "name": "#%%\n"
    }
   },
   "outputs": [
    {
     "name": "stdout",
     "output_type": "stream",
     "text": [
      "721\n"
     ]
    }
   ],
   "source": [
    "from db.database_connection import create_session, initialize\n",
    "from db.models import Bill\n",
    "#from tasks.machine_learning_tasks import keyword_extraction_by_bill\n",
    "\n",
    "initialize()\n",
    "session = create_session()\n",
    "bills = session.query(Bill).filter(Bill.keywords == None).count()\n",
    "\n",
    "print(bills)"
   ]
  },
  {
   "cell_type": "code",
   "execution_count": 4,
   "metadata": {
    "collapsed": false,
    "pycharm": {
     "name": "#%%\n"
    }
   },
   "outputs": [],
   "source": [
    "hr1 = ['For the People Act', 'election integrity and security', 'expands voter registration', 'independent redistricting commissions', 'congressional redistricting']\n",
    "\n",
    "hr1319 = ['American Rescue Plan', 'covid relief', 'covid economic relief', 'relief investment', 'healthcare investment']\n",
    "\n",
    "hr3684 = ['Infrastructure Investment', 'infrastructure job creation', 'funding for infrastructure', 'funding to rebuild roads', 'cleaning up Brownfield and Superfund']\n",
    "\n",
    "hres57 = ['impeach biden', 'criminal biden', 'abuse of power biden', 'unlawful acts biden', 'fake news biden', 'endangered the security of the United States biden']\n",
    "\n",
    "hr5376 = ['build back better', 'safe drinking water', 'small business assistance and development', 'transit services and clean energy projects in low-income communities', 'housing, rental, and homeowner assistance programs']\n",
    "\n",
    "hr4350 = ['defence authorization', 'military spending', 'defence spending', 'dod spending', 'F-35 aircraft spending', 'study irregular warfare', 'dod dispose of waste', 'draft women', 'selective service women']\n",
    "\n",
    "hr6 = ['path to receive permanent resident status', 'illegal aliens', 'path to citizenship', 'Deferred Action for Childhood Arrivals', 'DACA']\n",
    "\n",
    "hr1996 = ['weed banking', 'cannabis bank', 'cannabis banking', 'legitimate cannabis-related business', 'decreases the cap on the surplus funds of the Federal Reserve banks', 'decrease surplus funds cap']\n",
    "\n",
    "hr127 = ['process for the licensing and registration of firearms', 'register guns', 'gun license', 'database of firearms', 'database of guns', 'antique firearm requirements', 'antique gun requirements', 'large capacity ammunition feed device', 'ban .50 caliber']\n",
    "\n",
    "hr5 = ['sex discrimination', 'outlaws sex discrimination', 'ban sex discrimination', 'bathroom law', 'bathroom bill', 'gender identity law', 'outlaw gender identity discrimination']\n",
    "\n",
    "s1260 = ['support U.S. semiconductor manufacturing', 'U.S. semiconductor factory', 'wireless supply chain innovation', 'Innovation in the National Science Foundation', 'authorizes space exploration', 'NASA funding', 'China\\'s influence on institutions of higher education', 'chinese influence universities', 'prohibits federal funding for the Wuhan Institute of Virology']\n",
    "\n",
    "hr3648 = ['eagle act', 'more immigration', '15% visas', 'allow more green cards', 'legal aliens lawful residence', 'employment-based visas']\n",
    "\n",
    "hr4980 = ['vaccine mandate airport', 'vaccine mandate flights', 'vaccine mandate to fly', 'require vaccine to fly', 'require vaccine in airports']\n",
    "\n",
    "hr3755 = ['Women\\'s Health Protection', 'protect abortion rights', 'legal abortion', 'protect planned parenthood', 'prevent restricting abortion', 'may not require medically unnecessary procedures for abortion']\n",
    "\n",
    "from db.models import Bill, SearchPhrase, phrase_types\n",
    "from db.database_connection import initialize, create_session\n",
    "from db.db_utils import get_single_object, get_or_create\n",
    "\n",
    "initialize()\n",
    "session = create_session()\n",
    "bill = get_single_object(session, Bill, bill_id='hr1319-117')\n",
    "for keyword in hr1319:\n",
    "    object, created = get_or_create(session, SearchPhrase, search_phrase=keyword, type=phrase_types.manual)\n",
    "    bill.keywords.append(object)\n",
    "    \n",
    "bill = get_single_object(session, Bill, bill_id='hr3684-117')\n",
    "for keyword in hr3684:\n",
    "    object, created = get_or_create(session, SearchPhrase, search_phrase=keyword, type=phrase_types.manual)\n",
    "    bill.keywords.append(object)\n",
    "    \n",
    "bill = get_single_object(session, Bill, bill_id='hres57-117')\n",
    "for keyword in hres57:\n",
    "    object, created = get_or_create(session, SearchPhrase, search_phrase=keyword, type=phrase_types.manual)\n",
    "    bill.keywords.append(object)\n",
    "    \n",
    "bill = get_single_object(session, Bill, bill_id='hr5376-117')\n",
    "for keyword in hr5376:\n",
    "    object, created = get_or_create(session, SearchPhrase, search_phrase=keyword, type=phrase_types.manual)\n",
    "    bill.keywords.append(object)\n",
    "\n",
    "bill = get_single_object(session, Bill, bill_id='hr4350-117')\n",
    "for keyword in hr4350:\n",
    "    object, created = get_or_create(session, SearchPhrase, search_phrase=keyword, type=phrase_types.manual)\n",
    "    bill.keywords.append(object)\n",
    "    \n",
    "bill = get_single_object(session, Bill, bill_id='hr6-117')\n",
    "for keyword in hr6:\n",
    "    object, created = get_or_create(session, SearchPhrase, search_phrase=keyword, type=phrase_types.manual)\n",
    "    bill.keywords.append(object)\n",
    "    \n",
    "bill = get_single_object(session, Bill, bill_id='hr1996-117')\n",
    "for keyword in hr1996:\n",
    "    object, created = get_or_create(session, SearchPhrase, search_phrase=keyword, type=phrase_types.manual)\n",
    "    bill.keywords.append(object)\n",
    "    \n",
    "bill = get_single_object(session, Bill, bill_id='hr127-117')\n",
    "for keyword in hr127:\n",
    "    object, created = get_or_create(session, SearchPhrase, search_phrase=keyword, type=phrase_types.manual)\n",
    "    bill.keywords.append(object)\n",
    "    \n",
    "bill = get_single_object(session, Bill, bill_id='hr5-117')\n",
    "for keyword in hr5:\n",
    "    object, created = get_or_create(session, SearchPhrase, search_phrase=keyword, type=phrase_types.manual)\n",
    "    bill.keywords.append(object)\n",
    "    \n",
    "bill = get_single_object(session, Bill, bill_id='s1260-117')\n",
    "for keyword in s1260:\n",
    "    object, created = get_or_create(session, SearchPhrase, search_phrase=keyword, type=phrase_types.manual)\n",
    "    bill.keywords.append(object)\n",
    "    \n",
    "bill = get_single_object(session, Bill, bill_id='hr3648-117')\n",
    "for keyword in hr3648:\n",
    "    object, created = get_or_create(session, SearchPhrase, search_phrase=keyword, type=phrase_types.manual)\n",
    "    bill.keywords.append(object)\n",
    "    \n",
    "bill = get_single_object(session, Bill, bill_id='hr4980-117')\n",
    "for keyword in hr4980:\n",
    "    object, created = get_or_create(session, SearchPhrase, search_phrase=keyword, type=phrase_types.manual)\n",
    "    bill.keywords.append(object)\n",
    "    \n",
    "bill = get_single_object(session, Bill, bill_id='hr3755-117')\n",
    "for keyword in hr3755:\n",
    "    object, created = get_or_create(session, SearchPhrase, search_phrase=keyword, type=phrase_types.manual)\n",
    "    bill.keywords.append(object)\n",
    "\n",
    "\n",
    "session.commit()\n",
    "session.close()"
   ]
  },
  {
   "cell_type": "code",
   "execution_count": null,
   "outputs": [],
   "source": [
    "import time\n",
    "import datetime\n",
    "\n",
    "print('starting')\n",
    "start = datetime.datetime.now()\n",
    "time.sleep(3.241)\n",
    "end = datetime.datetime.now()\n",
    "print((end-start).total_seconds())"
   ],
   "metadata": {
    "collapsed": false,
    "pycharm": {
     "name": "#%%\n"
    }
   }
  },
  {
   "cell_type": "code",
   "execution_count": 30,
   "outputs": [
    {
     "name": "stdout",
     "output_type": "stream",
     "text": [
      "H.R.1: An Act to provide for reconciliation pursuant to titles II and V of the concurrent resolution on the budget for fiscal year 2018. appeared 59 times\n",
      "H.R.5428: Stand with UK against Russia Violations Act appeared 53 times\n",
      "H.R.38: Concealed Carry Reciprocity Act of 2017 appeared 36 times\n",
      "H.R.392: Fairness for High-Skilled Immigrants Act of 2017 appeared 31 times\n",
      "H.R.5515: John S. McCain National Defense Authorization Act for Fiscal Year 2019 appeared 24 times\n",
      "S.2155: Economic Growth, Regulatory Relief, and Consumer Protection Act appeared 17 times\n",
      "H.R.1625: Consolidated Appropriations Act, 2018 appeared 16 times\n",
      "H.R.2810: National Defense Authorization Act for Fiscal Year 2018 appeared 16 times\n",
      "H.R.5087: Assault Weapons Ban of 2018 appeared 15 times\n",
      "H.R.6: SUPPORT for Patients and Communities Act appeared 12 times\n",
      "H.R.2: Agriculture Improvement Act of 2018 appeared 11 times\n",
      "H.R.4760: Securing America’s Future Act of 2018 appeared 11 times\n",
      "H.R.6157: Department of Defense and Labor, Health and Human Services, and Education Appropriations Act, 2019 and Continuing Appropriations Act, 2019 appeared 10 times\n",
      "H.R.5428 : Stand with UK against Russia Violations Act appeared 9 times\n",
      "H.R.5682: FIRST STEP Act appeared 9 times\n",
      "H.R.1865: Allow States and Victims to Fight Online Sex Trafficking Act of 2017 appeared 9 times\n",
      "H.R.610: To distribute Federal funds for elementary and secondary education in the form of vouchers for eligible students and to repeal a certain rule relating to nutrition standards in schools. appeared 7 times\n",
      "H.R.5404: To define the dollar as a fixed weight of gold. appeared 6 times\n",
      "S.756: First Step Act of 2018 appeared 6 times\n",
      "H.R.7115: 3D Firearms Prohibitions Act appeared 6 times\n",
      "H.R.1242: 400 Years of African-American History Commission Act appeared 6 times\n",
      "H.R.5895: Energy and Water, Legislative Branch, and Military Construction and Veterans Affairs Appropriations Act, 2019 appeared 6 times\n",
      "H.R.1892: Bipartisan Budget Act of 2018 appeared 6 times\n",
      "H.R.367: Hearing Protection Act of 2017 appeared 5 times\n",
      "H.R.302: FAA Reauthorization Act of 2018 appeared 5 times\n",
      "H.R.6147: Interior, Environment, Financial Services and General Government, Agriculture, Rural Development, Food and Drug Administration, and Transportation, Housing and Urban Development Appropriations Act, 2019 appeared 5 times\n",
      "H.R.620: ADA Education and Reform Act of 2017 appeared 5 times\n",
      "H.R.695: Department of Defense Appropriations Act, 2018 appeared 4 times\n",
      "H.J.Res.69: Providing for congressional disapproval under chapter 8 of title 5, United States Code, of the final rule of the Department of the Interior relating to “Non-Subsistence Take of Wildlife, and Public Participation and Closure Procedures, on National Wildlife Refuges in Alaska”. appeared 4 times\n",
      "H.R.4: FAA Reauthorization Act of 2018 appeared 4 times\n",
      "S.3336: Defending American Security from Kremlin Aggression Act of 2018 appeared 4 times\n",
      "H.R.5103: Gun Violence Prevention and Safe Communities Act of 2018 appeared 4 times\n",
      "H.R.4909: STOP School Violence Act of 2018 appeared 4 times\n",
      "H.R.1227: Ending Federal Marijuana Prohibition Act of 2017 appeared 4 times\n",
      "H.R.3359: Cybersecurity and Infrastructure Security Agency Act of 2018 appeared 3 times\n",
      "H.J.Res.40: Providing for congressional disapproval under chapter 8 of title 5, United States Code, of the rule submitted by the Social Security Administration relating to Implementation of the NICS Improvement Amendments Act of 2007. appeared 3 times\n",
      "H.R.3356: Prison Reform and Redemption Act appeared 3 times\n",
      "S.3021: America’s Water Infrastructure Act of 2018 appeared 3 times\n",
      "H.R.4318: Miscellaneous Tariff Bill Act of 2018 appeared 3 times\n",
      "H.R.6136: Border Security and Immigration Reform Act of 2018 appeared 3 times\n",
      "S.3036: Keep Families Together Act appeared 3 times\n",
      "S.2095: Assault Weapons Ban of 2017 appeared 3 times\n",
      "S.354: RAISE Act appeared 3 times\n",
      "S.447: Justice for Uncompensated Survivors Today (JUST) Act of 2017 appeared 2 times\n",
      "H.R.1 : An Act to provide for reconciliation pursuant to titles II and V of the concurrent resolution on the budget for fiscal year 2018. appeared 2 times\n",
      "H.R.7207: To allow the Secretary of the Treasury to accept public donations to fund the construction of a barrier on the border between the United States and Mexico and for other purposes. appeared 2 times\n",
      "H.R.1918: Nicaraguan Investment Conditionality Act (NICA) of 2017 appeared 2 times\n",
      "S.J.Res.54: A joint resolution to direct the removal of United States Armed Forces from hostilities in the Republic of Yemen that have not been authorized by Congress. appeared 2 times\n",
      "S.720: Israel Anti-Boycott Act appeared 2 times\n",
      "H.R.6784: Manage our Wolves Act appeared 2 times\n",
      "S.2779: Zimbabwe Democracy and Economic Recovery Amendment Act of 2018 appeared 2 times\n",
      "H.R.5515 : John S. McCain National Defense Authorization Act for Fiscal Year 2019 appeared 2 times\n",
      "H.R.6054: Unmasking Antifa Act of 2018 appeared 2 times\n",
      "H.R.299: Blue Water Navy Vietnam Veterans Act of 2017 appeared 2 times\n",
      "S.2937: HELP Separated Children Act appeared 2 times\n",
      "S.2372: VA MISSION Act of 2018 appeared 2 times\n",
      "S.204: Trickett Wendler, Frank Mongiello, Jordan McLinn, and Matthew Bellina Right to Try Act of 2017 appeared 2 times\n",
      "S.1693: Stop Enabling Sex Traffickers Act of 2017 appeared 2 times\n",
      "H.R.535: Taiwan Travel Act appeared 2 times\n",
      "H.R.5077: Assault Weapons Ban of 2018 appeared 2 times\n",
      "H.R.34: Safe Students Act appeared 2 times\n",
      "H.R.109: Mortgage Insurance Tax Deduction Act of 2017 appeared 2 times\n",
      "S.139: FISA Amendments Reauthorization Act of 2017 appeared 2 times\n",
      "H.R.2884: COVFEFE Act of 2017 appeared 1 times\n",
      "S.2736: Asia Reassurance Initiative Act of 2018 appeared 1 times\n",
      "S.534: Protecting Young Victims from Sexual Abuse and Safe Sport Authorization Act of 2017 appeared 1 times\n",
      "H.R.6172: Reunite Children With Their Parents Act appeared 1 times\n",
      "H.R.6666: To authorize the Secretary of the Interior to grant to States and local governments easements and rights-of-way over Federal land within Gateway National Recreation Area for construction, operation, and maintenance of projects for control and prevention of flooding and shoreline erosion. appeared 1 times\n",
      "H.R.40: Commission to Study and Develop Reparation Proposals for African-Americans Act appeared 1 times\n",
      "H.R.4712: Born-Alive Abortion Survivors Protection Act appeared 1 times\n",
      "H.R.7332: Protect American Taxpayers and Secure Border Act appeared 1 times\n",
      "H.R.6227: National Quantum Initiative Act appeared 1 times\n",
      "S.3649: First Step Act appeared 1 times\n",
      "H.R.390: Iraq and Syria Genocide Relief and Accountability Act of 2018 appeared 1 times\n",
      "H.Res.1169: Reaffirming the commitment of the United States to promote free, fair, transparent and credible elections in Bangladesh. appeared 1 times\n",
      "H.J.Res.143: Making further continuing appropriations for fiscal year 2019, and for other purposes. appeared 1 times\n",
      "H.R.7173: Energy Innovation and Carbon Dividend Act of 2018 appeared 1 times\n",
      "H.R.7150: H-4 Employment Protection Act of 2018 appeared 1 times\n",
      "S.2628: Mashpee Wampanoag Tribe Reservation Reaffirmation Act appeared 1 times\n",
      "S.2644: Special Counsel Independence and Integrity Act appeared 1 times\n",
      "H.Con.Res.138: Directing the President pursuant to section 5(c) of the War Powers Resolution to remove United States Armed Forces from hostilities in the Republic of Yemen that have not been authorized by Congress. appeared 1 times\n",
      "S.2800: America’s Water Infrastructure Act of 2018 appeared 1 times\n",
      "S.2553: Know the Lowest Price Act of 2018 appeared 1 times\n",
      "S.2554: Patient Right to Know Drug Prices Act appeared 1 times\n",
      "S.1804: Medicare for All Act of 2017 appeared 1 times\n",
      "S.Res.610: A resolution urging the release of information regarding the September 11, 2001, terrorist attacks upon the United States. appeared 1 times\n",
      "S.281: Fairness for High-Skilled Immigrants Act of 2017 appeared 1 times\n",
      "H.R.6691: Community Safety and Security Act of 2018 appeared 1 times\n",
      "S.Amdt.3695: S.Amdt.3695 to H.R.6157 appeared 1 times\n",
      "H.R.5181: Countering Foreign Propaganda and Disinformation Act of 2016 appeared 1 times\n",
      "H.R.392 : Fairness for High-Skilled Immigrants Act of 2017 appeared 1 times\n",
      "H.R.6147 : Interior, Environment, Financial Services and General Government, Agriculture, Rural Development, Food and Drug Administration, and Transportation, Housing and Urban Development Appropriations Act, 2019 appeared 1 times\n",
      "H.R.5404 : To define the dollar as a fixed weight of gold. appeared 1 times\n",
      "H.R.2353 : Strengthening Career and Technical Education for the 21st Century Act appeared 1 times\n",
      "H.R.4318 : Miscellaneous Tariff Bill Act of 2018 appeared 1 times\n",
      "H.R.299 : Blue Water Navy Vietnam Veterans Act of 2017 appeared 1 times\n",
      "H.J.Res.69 : Providing for congressional disapproval under chapter 8 of title 5, United States Code, of the final rule of the Department of the Interior relating to “Non-Subsistence Take of Wildlife, and Public Participation and Closure Procedures, on National Wildlife Refuges in Alaska”. appeared 1 times\n",
      "S.2155 : Economic Growth, Regulatory Relief, and Consumer Protection Act appeared 1 times\n",
      "H.R.2353: Strengthening Career and Technical Education for the 21st Century Act appeared 1 times\n",
      "H.R.184: Protect Medical Innovation Act of 2018 appeared 1 times\n",
      "H.Res.990: Supporting the officers and personnel who carry out the important mission of the United States Immigration and Customs Enforcement. appeared 1 times\n",
      "H.Con.Res.119: Expressing the sense of Congress that a carbon tax would be detrimental to the United States economy. appeared 1 times\n",
      "H.R.200: Strengthening Fishing Communities and Increasing Flexibility in Fisheries Management Act appeared 1 times\n",
      "H.R.2851: SITSA Act appeared 1 times\n",
      "H.R.2810 : National Defense Authorization Act for Fiscal Year 2018 appeared 1 times\n",
      "S.2987: An original bill to authorize appropriations for fiscal year 2019 for military activities of the Department of Defense, for military construction, and for defense activities of the Department of Energy, to prescribe military personnel strengths for such fiscal year, and for other purposes. appeared 1 times\n",
      "H.R.1625 : Consolidated Appropriations Act, 2018 appeared 1 times\n",
      "H.R.3: Spending Cuts to Expired and Unnecessary Programs Act appeared 1 times\n",
      "S.2607: Extreme Risk Protection Order and Violence Prevention Act of 2018 appeared 1 times\n",
      "H.R.878: Right to Try Act of 2017 appeared 1 times\n",
      "H.R.5680: Taiwan Defense Assessment Commission Act of 2018 appeared 1 times\n",
      "H.R.5717: Jake Laird Act of 2018 appeared 1 times\n",
      "S.J.Res.52: A joint resolution providing for congressional disapproval under chapter 8 of title 5, United States Code, of the rule submitted by the Federal Communications Commission relating to “Restoring Internet Freedom”. appeared 1 times\n",
      "H.R.5674: VA MISSION Act of 2018 appeared 1 times\n",
      "H.R.5698: Protect and Serve Act of 2018 appeared 1 times\n",
      "H.R.3053: Nuclear Waste Policy Amendments Act of 2017 appeared 1 times\n",
      "S.J.Res.57: A joint resolution providing for congressional disapproval under chapter 8 of title 5, United States Code, of the rule submitted by Bureau of Consumer Financial Protection relating to “Indirect Auto Lending and Compliance with the Equal Credit Opportunity Act”. appeared 1 times\n",
      "H.Res.128: Supporting respect for human rights and encouraging inclusive governance in Ethiopia. appeared 1 times\n",
      "H.J.Res.2: Proposing a balanced budget amendment to the Constitution of the United States. appeared 1 times\n",
      "H.R.2520: BROWSER Act of 2017 appeared 1 times\n",
      "S.1571: Read the Bills Act appeared 1 times\n",
      "H.J.Res.38: Disapproving the rule submitted by the Department of the Interior known as the Stream Protection Rule. appeared 1 times\n",
      "H.R.2579: Broader Options for Americans Act appeared 1 times\n",
      "S.2344: Immigration Innovation Act of 2018 appeared 1 times\n",
      "S.2256: Tax Extender Act of 2017 appeared 1 times\n",
      "H.R.3364: Countering America’s Adversaries Through Sanctions Act appeared 1 times\n",
      "S.2311: Pain-Capable Unborn Child Protection Act appeared 1 times\n",
      "H.R.36: Pain-Capable Unborn Child Protection Act appeared 1 times\n",
      "H.Res.718: Condemning the actions taken by the Government of the Republic of Cameroon against Patrice Nganang and others, and for other purposes. appeared 1 times\n",
      "H.R.195: Making further continuing appropriations for the fiscal year ending September 30, 2018, and for other purposes. appeared 1 times\n",
      "H.R.1301: Department of Defense Appropriations Act, 2017 appeared 1 times\n",
      "S.1615: Dream Act of 2017 appeared 1 times\n",
      "H.R.38 : Concealed Carry Reciprocity Act of 2017 appeared 1 times\n",
      "H.R.170: Protect and Grow American Jobs Act appeared 1 times\n",
      "H.R.975: Respect State Marijuana Laws Act of 2017 appeared 1 times\n"
     ]
    }
   ],
   "source": [
    "from bs4 import BeautifulSoup\n",
    "import requests\n",
    "\n",
    "congress_num = 115\n",
    "congress_string = f' [{congress_num}] '\n",
    "\n",
    "num_times = {}\n",
    "bill_titles = {}\n",
    "\n",
    "request = requests.get('https://www.congress.gov/most-viewed-bills')\n",
    "\n",
    "soup = BeautifulSoup(request.text, 'html.parser')\n",
    "trs = soup.find_all('tr', attrs={'class': None})\n",
    "for tr in trs:\n",
    "    cols = tr.find_all('td')\n",
    "    if len(cols) == 0:\n",
    "        continue\n",
    "    try:\n",
    "        if not str(congress_num) in cols[1].contents[1]:\n",
    "            continue\n",
    "        bill_num = cols[1].contents[0].contents[0]\n",
    "        if bill_num not in num_times.keys():\n",
    "            num_times[bill_num] = 1\n",
    "            bill_titles[bill_num] = cols[2].contents[0]\n",
    "        else:\n",
    "            num_times[bill_num] += 1\n",
    "    except AttributeError:\n",
    "        continue\n",
    "\n",
    "for bill in sorted(num_times.keys(), key=num_times.get, reverse=True):\n",
    "    print(f'{bill}: {bill_titles[bill]} appeared {num_times[bill]} times')"
   ],
   "metadata": {
    "collapsed": false,
    "pycharm": {
     "name": "#%%\n"
    }
   }
  },
  {
   "cell_type": "code",
   "execution_count": 31,
   "outputs": [
    {
     "name": "stdout",
     "output_type": "stream",
     "text": [
      "one\n",
      "three\n"
     ]
    }
   ],
   "source": [
    "tuples = [('one', 'two'), ('three', 'four')]\n",
    "\n",
    "for first, second in tuples:\n",
    "    print(first)"
   ],
   "metadata": {
    "collapsed": false,
    "pycharm": {
     "name": "#%%\n"
    }
   }
  },
  {
   "cell_type": "code",
   "execution_count": null,
   "outputs": [],
   "source": [],
   "metadata": {
    "collapsed": false,
    "pycharm": {
     "name": "#%%\n"
    }
   }
  }
 ],
 "metadata": {
  "interpreter": {
   "hash": "31f2aee4e71d21fbe5cf8b01ff0e069b9275f58929596ceb00d14d90e3e16cd6"
  },
  "kernelspec": {
   "display_name": "Python 3.8.10 64-bit",
   "language": "python",
   "name": "python3"
  },
  "language_info": {
   "codemirror_mode": {
    "name": "ipython",
    "version": 3
   },
   "file_extension": ".py",
   "mimetype": "text/x-python",
   "name": "python",
   "nbconvert_exporter": "python",
   "pygments_lexer": "ipython3",
   "version": "3.8.10"
  },
  "orig_nbformat": 4
 },
 "nbformat": 4,
 "nbformat_minor": 2
}